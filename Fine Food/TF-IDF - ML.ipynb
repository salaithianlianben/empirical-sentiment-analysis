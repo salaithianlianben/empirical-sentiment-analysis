{
 "cells": [
  {
   "cell_type": "code",
   "execution_count": 1,
   "id": "7cbea657",
   "metadata": {},
   "outputs": [],
   "source": [
    "import pandas as pd\n",
    "import numpy as np\n",
    "from sklearn.feature_extraction.text import TfidfVectorizer\n",
    "from sklearn.model_selection import train_test_split\n",
    "from sklearn.ensemble import RandomForestClassifier, VotingClassifier\n",
    "from sklearn.linear_model import LogisticRegression\n",
    "from sklearn.model_selection import cross_val_predict, cross_val_score, KFold\n",
    "from sklearn.metrics import classification_report, confusion_matrix, accuracy_score\n",
    "import pickle\n",
    "from sklearn.svm import SVC\n",
    "from sklearn.ensemble import GradientBoostingClassifier\n",
    "from datetime import datetime"
   ]
  },
  {
   "cell_type": "code",
   "execution_count": 2,
   "id": "fd8ab044",
   "metadata": {},
   "outputs": [],
   "source": [
    "df = pd.read_csv(\"fine_food_dataset.csv\")"
   ]
  },
  {
   "cell_type": "code",
   "execution_count": 3,
   "id": "6e12b3a2",
   "metadata": {},
   "outputs": [
    {
     "data": {
      "text/plain": [
       "(40000, 7)"
      ]
     },
     "execution_count": 3,
     "metadata": {},
     "output_type": "execute_result"
    }
   ],
   "source": [
    "df.shape"
   ]
  },
  {
   "cell_type": "code",
   "execution_count": 4,
   "id": "1f076c22",
   "metadata": {},
   "outputs": [
    {
     "data": {
      "text/plain": [
       "Index(['Unnamed: 0', 'Text', 'Score', 'sentiment',\n",
       "       'review_after_removing_html_tags', 'review_after_removing_punctuation',\n",
       "       'review_after_pos_and_lemmatization'],\n",
       "      dtype='object')"
      ]
     },
     "execution_count": 4,
     "metadata": {},
     "output_type": "execute_result"
    }
   ],
   "source": [
    "df.columns"
   ]
  },
  {
   "cell_type": "code",
   "execution_count": 5,
   "id": "893f0653",
   "metadata": {},
   "outputs": [
    {
     "data": {
      "text/plain": [
       "Unnamed: 0                            0\n",
       "Text                                  0\n",
       "Score                                 0\n",
       "sentiment                             0\n",
       "review_after_removing_html_tags       0\n",
       "review_after_removing_punctuation     0\n",
       "review_after_pos_and_lemmatization    0\n",
       "dtype: int64"
      ]
     },
     "execution_count": 5,
     "metadata": {},
     "output_type": "execute_result"
    }
   ],
   "source": [
    "df.isna().sum()"
   ]
  },
  {
   "cell_type": "code",
   "execution_count": 6,
   "id": "7090d4ce",
   "metadata": {},
   "outputs": [
    {
     "data": {
      "text/plain": [
       "(20000, 7)"
      ]
     },
     "execution_count": 6,
     "metadata": {},
     "output_type": "execute_result"
    }
   ],
   "source": [
    "df[ df.sentiment == 1 ].shape"
   ]
  },
  {
   "cell_type": "code",
   "execution_count": 7,
   "id": "5a93d94d",
   "metadata": {},
   "outputs": [
    {
     "data": {
      "text/plain": [
       "(20000, 7)"
      ]
     },
     "execution_count": 7,
     "metadata": {},
     "output_type": "execute_result"
    }
   ],
   "source": [
    "df[ df.sentiment == 0 ].shape"
   ]
  },
  {
   "cell_type": "code",
   "execution_count": 9,
   "id": "24a2382a",
   "metadata": {},
   "outputs": [],
   "source": [
    "tfidf_model = TfidfVectorizer()\n",
    "\n",
    "X = tfidf_model.fit_transform(df[\"review_after_pos_and_lemmatization\"])\n",
    "y = df[\"sentiment\"]"
   ]
  },
  {
   "cell_type": "code",
   "execution_count": 10,
   "id": "f9cdcbd8",
   "metadata": {},
   "outputs": [],
   "source": [
    "X_train, X_test, y_train, y_test = train_test_split(X, y, test_size=0.2)"
   ]
  },
  {
   "cell_type": "code",
   "execution_count": 11,
   "id": "a79f8083",
   "metadata": {},
   "outputs": [
    {
     "data": {
      "text/plain": [
       "(16028,)"
      ]
     },
     "execution_count": 11,
     "metadata": {},
     "output_type": "execute_result"
    }
   ],
   "source": [
    "y_train[ y_train == 1 ].shape"
   ]
  },
  {
   "cell_type": "code",
   "execution_count": 12,
   "id": "1ee3866a",
   "metadata": {},
   "outputs": [
    {
     "data": {
      "text/plain": [
       "(15972,)"
      ]
     },
     "execution_count": 12,
     "metadata": {},
     "output_type": "execute_result"
    }
   ],
   "source": [
    "y_train[ y_train == 0 ].shape"
   ]
  },
  {
   "cell_type": "code",
   "execution_count": 13,
   "id": "79885a6a",
   "metadata": {},
   "outputs": [
    {
     "data": {
      "text/plain": [
       "(3972,)"
      ]
     },
     "execution_count": 13,
     "metadata": {},
     "output_type": "execute_result"
    }
   ],
   "source": [
    "y_test[ y_test == 1 ].shape"
   ]
  },
  {
   "cell_type": "code",
   "execution_count": 14,
   "id": "190cd041",
   "metadata": {},
   "outputs": [
    {
     "data": {
      "text/plain": [
       "(4028,)"
      ]
     },
     "execution_count": 14,
     "metadata": {},
     "output_type": "execute_result"
    }
   ],
   "source": [
    "y_test[ y_test == 0 ].shape"
   ]
  },
  {
   "cell_type": "markdown",
   "id": "fe3b227e",
   "metadata": {},
   "source": [
    "#### KFold cross-validation"
   ]
  },
  {
   "cell_type": "code",
   "execution_count": 15,
   "id": "95bd69c6",
   "metadata": {},
   "outputs": [
    {
     "name": "stdout",
     "output_type": "stream",
     "text": [
      "Fitting random forest to training data....\n",
      "[0.8015]\n",
      "Fitting Logistic Regression to training data....\n",
      "[0.7941]\n",
      "Fitting SVM to training data....\n",
      "[0.86]\n",
      "Fitting Gradient Boosting to training data....\n",
      "[0.7878]\n",
      "=======================================================\n",
      "Fitting random forest to training data....\n",
      "[0.8015, 0.794]\n",
      "Fitting Logistic Regression to training data....\n",
      "[0.7941, 0.8036]\n",
      "Fitting SVM to training data....\n",
      "[0.86, 0.8638]\n",
      "Fitting Gradient Boosting to training data....\n",
      "[0.7878, 0.7909]\n",
      "=======================================================\n",
      "Fitting random forest to training data....\n",
      "[0.8015, 0.794, 0.8084]\n",
      "Fitting Logistic Regression to training data....\n",
      "[0.7941, 0.8036, 0.7962]\n",
      "Fitting SVM to training data....\n",
      "[0.86, 0.8638, 0.8569]\n",
      "Fitting Gradient Boosting to training data....\n",
      "[0.7878, 0.7909, 0.7833]\n",
      "=======================================================\n",
      "Fitting random forest to training data....\n",
      "[0.8015, 0.794, 0.8084, 0.8055]\n",
      "Fitting Logistic Regression to training data....\n",
      "[0.7941, 0.8036, 0.7962, 0.7939]\n",
      "Fitting SVM to training data....\n",
      "[0.86, 0.8638, 0.8569, 0.8602]\n",
      "Fitting Gradient Boosting to training data....\n",
      "[0.7878, 0.7909, 0.7833, 0.7838]\n",
      "=======================================================\n"
     ]
    }
   ],
   "source": [
    "# Set up k-fold cross-validation\n",
    "kf = KFold(n_splits=4, shuffle=True)\n",
    "\n",
    "random_forest_scores = []\n",
    "logistic_scores = []\n",
    "svm_scores = []\n",
    "gd_boost_scores = []\n",
    "\n",
    "# Generate indices for each fold\n",
    "for train_index, test_index in kf.split(X):\n",
    "    x_train_data, x_test_data = X[train_index], X[test_index]\n",
    "    y_train_data, y_test_data = y[train_index], y[test_index]\n",
    "\n",
    "    ## Random Forest\n",
    "    model_forest = RandomForestClassifier(max_depth=10, n_estimators=500)\n",
    "\n",
    "    print(\"Fitting random forest to training data....\")    \n",
    "    model_forest = model_forest.fit(x_train_data, y_train_data)\n",
    "    \n",
    "    y_pred_data = model_forest.predict(x_test_data)\n",
    "    score = accuracy_score(y_test_data, y_pred_data)\n",
    "    random_forest_scores.append(score)\n",
    "    print(random_forest_scores)\n",
    "    \n",
    "    ## Logistic Regression\n",
    "    \n",
    "    model_logistic_regression = LogisticRegression(penalty='l1', solver='liblinear', C=0.1)\n",
    "    print(\"Fitting Logistic Regression to training data....\")  \n",
    "    model_logistic_regression = model_logistic_regression.fit(x_train_data, y_train_data)\n",
    "    \n",
    "    y_pred_data = model_logistic_regression.predict(x_test_data)\n",
    "    score = accuracy_score(y_test_data, y_pred_data)\n",
    "    logistic_scores.append(score)\n",
    "    print(logistic_scores)\n",
    "    \n",
    "    ## SVM\n",
    "    model_svm = SVC(C=0.1, kernel='linear')\n",
    "    print(\"Fitting SVM to training data....\")  \n",
    "    model_svm = model_svm.fit(x_train_data, y_train_data)\n",
    "    \n",
    "    y_pred_data = model_svm.predict(x_test_data)\n",
    "    score = accuracy_score(y_test_data, y_pred_data)\n",
    "    svm_scores.append(score)\n",
    "    print(svm_scores)\n",
    "    \n",
    "    ## Gradient Boosting\n",
    "    gb_classifier = GradientBoostingClassifier(random_state=2)\n",
    "    print(\"Fitting Gradient Boosting to training data....\")    \n",
    "    gb_classifier.fit(x_train_data, y_train_data)\n",
    "    \n",
    "    y_pred_data = gb_classifier.predict(x_test_data)\n",
    "    score = accuracy_score(y_test_data, y_pred_data)\n",
    "    gd_boost_scores.append(score)\n",
    "    print(gd_boost_scores)\n",
    "    \n",
    "    print(\"=======================================================\")\n",
    "\n",
    "# print(f\"Cross-validation scores: {scores}\")\n",
    "# print(f\"Average score: {np.mean(scores)}\")"
   ]
  },
  {
   "cell_type": "code",
   "execution_count": 16,
   "id": "72046032",
   "metadata": {},
   "outputs": [
    {
     "name": "stdout",
     "output_type": "stream",
     "text": [
      "Random Forest KFold cross-validation\n",
      "Cross-validation scores: [0.8015, 0.794, 0.8084, 0.8055]\n",
      "Average score: 0.80235\n",
      "\n",
      "Logistic Regression KFold cross-validation\n",
      "Cross-validation scores: [0.7941, 0.8036, 0.7962, 0.7939]\n",
      "Average score: 0.79695\n",
      "\n",
      "SVM cross-validation\n",
      "Cross-validation scores: [0.86, 0.8638, 0.8569, 0.8602]\n",
      "Average score: 0.860225\n",
      "\n",
      "Gradient Boosting KFold cross-validation\n",
      "Cross-validation scores: [0.7878, 0.7909, 0.7833, 0.7838]\n",
      "Average score: 0.7864500000000001\n",
      "\n"
     ]
    }
   ],
   "source": [
    "print(\"Random Forest KFold cross-validation\")\n",
    "print(f\"Cross-validation scores: {random_forest_scores}\")\n",
    "print(f\"Average score: {np.mean(random_forest_scores)}\\n\")\n",
    "print(\"Logistic Regression KFold cross-validation\")\n",
    "print(f\"Cross-validation scores: {logistic_scores}\")\n",
    "print(f\"Average score: {np.mean(logistic_scores)}\\n\")\n",
    "print(\"SVM cross-validation\")\n",
    "print(f\"Cross-validation scores: {svm_scores}\")\n",
    "print(f\"Average score: {np.mean(svm_scores)}\\n\")\n",
    "print(\"Gradient Boosting KFold cross-validation\")\n",
    "print(f\"Cross-validation scores: {gd_boost_scores}\")\n",
    "print(f\"Average score: {np.mean(gd_boost_scores)}\\n\")"
   ]
  },
  {
   "cell_type": "markdown",
   "id": "95a6314b",
   "metadata": {},
   "source": [
    "#### Random Forest"
   ]
  },
  {
   "cell_type": "code",
   "execution_count": 17,
   "id": "f6597adb",
   "metadata": {},
   "outputs": [
    {
     "name": "stdout",
     "output_type": "stream",
     "text": [
      "Fitting random forest to training data....\n",
      "Random Forest Training Runtime: 0:00:35.340942\n"
     ]
    }
   ],
   "source": [
    "# Start the timer\n",
    "start_time = datetime.now()\n",
    "\n",
    "model_forest = RandomForestClassifier(max_depth=10, n_estimators=500)\n",
    "\n",
    "print(\"Fitting random forest to training data....\")    \n",
    "model_forest = model_forest.fit(X_train, y_train)\n",
    "\n",
    "# Stop the timer\n",
    "end_time = datetime.now()\n",
    "\n",
    "# Calculate the runtime\n",
    "runtime = end_time - start_time\n",
    "\n",
    "# Print the runtime\n",
    "print('Random Forest Training Runtime:', runtime)"
   ]
  },
  {
   "cell_type": "code",
   "execution_count": 18,
   "id": "b4912082",
   "metadata": {},
   "outputs": [
    {
     "data": {
      "text/plain": [
       "0.799125"
      ]
     },
     "execution_count": 18,
     "metadata": {},
     "output_type": "execute_result"
    }
   ],
   "source": [
    "model_forest.score(X_test, y_test)"
   ]
  },
  {
   "cell_type": "code",
   "execution_count": 19,
   "id": "ce7c459d",
   "metadata": {},
   "outputs": [
    {
     "data": {
      "text/plain": [
       "0.839125"
      ]
     },
     "execution_count": 19,
     "metadata": {},
     "output_type": "execute_result"
    }
   ],
   "source": [
    "model_forest.score(X_train, y_train)"
   ]
  },
  {
   "cell_type": "code",
   "execution_count": 20,
   "id": "43d9eb50",
   "metadata": {},
   "outputs": [
    {
     "name": "stdout",
     "output_type": "stream",
     "text": [
      "Random Forest Prediction Runtime: 0:00:00.690176\n"
     ]
    }
   ],
   "source": [
    "# Start the timer\n",
    "start_time = datetime.now()\n",
    "\n",
    "y_pred = model_forest.predict(X_test)\n",
    "\n",
    "# Stop the timer\n",
    "end_time = datetime.now()\n",
    "\n",
    "# Calculate the runtime\n",
    "runtime = end_time - start_time\n",
    "\n",
    "# Print the runtime\n",
    "print('Random Forest Prediction Runtime:', runtime)"
   ]
  },
  {
   "cell_type": "code",
   "execution_count": 21,
   "id": "ef1d82f8",
   "metadata": {},
   "outputs": [],
   "source": [
    "y_pred = cross_val_predict(model_forest, X_test, y_test)"
   ]
  },
  {
   "cell_type": "code",
   "execution_count": 22,
   "id": "6af6cabf",
   "metadata": {},
   "outputs": [
    {
     "name": "stdout",
     "output_type": "stream",
     "text": [
      "              precision    recall  f1-score   support\n",
      "\n",
      "           0       0.80      0.83      0.82      4028\n",
      "           1       0.82      0.79      0.81      3972\n",
      "\n",
      "    accuracy                           0.81      8000\n",
      "   macro avg       0.81      0.81      0.81      8000\n",
      "weighted avg       0.81      0.81      0.81      8000\n",
      "\n"
     ]
    }
   ],
   "source": [
    "print(classification_report(y_test, y_pred))"
   ]
  },
  {
   "cell_type": "code",
   "execution_count": 23,
   "id": "d8ee9204",
   "metadata": {},
   "outputs": [
    {
     "name": "stdout",
     "output_type": "stream",
     "text": [
      "[[3355  673]\n",
      " [ 815 3157]]\n"
     ]
    }
   ],
   "source": [
    "print(confusion_matrix(y_test, y_pred))"
   ]
  },
  {
   "cell_type": "code",
   "execution_count": 24,
   "id": "80aca443",
   "metadata": {},
   "outputs": [],
   "source": [
    "filename = 'models/rd_tfidf_ml_model.sav'\n",
    "pickle.dump(model_forest, open(filename, 'wb'))"
   ]
  },
  {
   "cell_type": "markdown",
   "id": "18a58d38",
   "metadata": {},
   "source": [
    "#### Logistic Regression"
   ]
  },
  {
   "cell_type": "code",
   "execution_count": 25,
   "id": "29a4c3c6",
   "metadata": {},
   "outputs": [
    {
     "name": "stdout",
     "output_type": "stream",
     "text": [
      "Fitting Logistic Regression to training data....\n",
      "Logistic Regression Training Runtime: 0:00:00.235770\n"
     ]
    }
   ],
   "source": [
    "# Start the timer\n",
    "start_time = datetime.now()\n",
    "\n",
    "model_logistic_regression = LogisticRegression(penalty='l1', solver='liblinear', C=0.1)\n",
    "\n",
    "print(\"Fitting Logistic Regression to training data....\")  \n",
    "model_logistic_regression = model_logistic_regression.fit(X_train, y_train)\n",
    "\n",
    "# Stop the timer\n",
    "end_time = datetime.now()\n",
    "\n",
    "# Calculate the runtime\n",
    "runtime = end_time - start_time\n",
    "\n",
    "# Print the runtime\n",
    "print('Logistic Regression Training Runtime:', runtime)"
   ]
  },
  {
   "cell_type": "code",
   "execution_count": 26,
   "id": "76e3ba8c",
   "metadata": {},
   "outputs": [
    {
     "data": {
      "text/plain": [
       "0.79775"
      ]
     },
     "execution_count": 26,
     "metadata": {},
     "output_type": "execute_result"
    }
   ],
   "source": [
    "model_logistic_regression.score(X_test, y_test)"
   ]
  },
  {
   "cell_type": "code",
   "execution_count": 27,
   "id": "bd3883ea",
   "metadata": {},
   "outputs": [
    {
     "data": {
      "text/plain": [
       "0.80365625"
      ]
     },
     "execution_count": 27,
     "metadata": {},
     "output_type": "execute_result"
    }
   ],
   "source": [
    "model_logistic_regression.score(X_train, y_train)"
   ]
  },
  {
   "cell_type": "code",
   "execution_count": 28,
   "id": "0e5654b1",
   "metadata": {},
   "outputs": [
    {
     "name": "stdout",
     "output_type": "stream",
     "text": [
      "Logistic Regression Prediction Runtime: 0:00:00\n"
     ]
    }
   ],
   "source": [
    "# Start the timer\n",
    "start_time = datetime.now()\n",
    "\n",
    "y_pred = model_logistic_regression.predict(X_test)\n",
    "\n",
    "# Stop the timer\n",
    "end_time = datetime.now()\n",
    "\n",
    "# Calculate the runtime\n",
    "runtime = end_time - start_time\n",
    "\n",
    "# Print the runtime\n",
    "print('Logistic Regression Prediction Runtime:', runtime)"
   ]
  },
  {
   "cell_type": "code",
   "execution_count": 29,
   "id": "2aed5b70",
   "metadata": {},
   "outputs": [],
   "source": [
    "y_pred = cross_val_predict(model_logistic_regression, X_test, y_test)"
   ]
  },
  {
   "cell_type": "code",
   "execution_count": 30,
   "id": "19020280",
   "metadata": {},
   "outputs": [
    {
     "name": "stdout",
     "output_type": "stream",
     "text": [
      "              precision    recall  f1-score   support\n",
      "\n",
      "           0       0.67      0.71      0.69      4028\n",
      "           1       0.69      0.65      0.67      3972\n",
      "\n",
      "    accuracy                           0.68      8000\n",
      "   macro avg       0.68      0.68      0.68      8000\n",
      "weighted avg       0.68      0.68      0.68      8000\n",
      "\n"
     ]
    }
   ],
   "source": [
    "print(classification_report(y_test, y_pred))"
   ]
  },
  {
   "cell_type": "code",
   "execution_count": 31,
   "id": "db3c06ef",
   "metadata": {},
   "outputs": [
    {
     "name": "stdout",
     "output_type": "stream",
     "text": [
      "[[2866 1162]\n",
      " [1396 2576]]\n"
     ]
    }
   ],
   "source": [
    "print(confusion_matrix(y_test, y_pred))"
   ]
  },
  {
   "cell_type": "code",
   "execution_count": 32,
   "id": "bcb076cd",
   "metadata": {},
   "outputs": [],
   "source": [
    "filename = 'models/lg_tfidf_ml_model.sav'\n",
    "pickle.dump(model_logistic_regression, open(filename, 'wb'))"
   ]
  },
  {
   "cell_type": "markdown",
   "id": "d3255f4c",
   "metadata": {},
   "source": [
    "#### SVM"
   ]
  },
  {
   "cell_type": "code",
   "execution_count": 33,
   "id": "9246bc20",
   "metadata": {},
   "outputs": [
    {
     "name": "stdout",
     "output_type": "stream",
     "text": [
      "SVM Prediction Runtime: 0:04:06.061968\n"
     ]
    }
   ],
   "source": [
    "# Start the timer\n",
    "start_time = datetime.now()\n",
    "\n",
    "model_svm = SVC(C=0.1, kernel='linear')\n",
    "\n",
    "model_svm = model_svm.fit(X_train, y_train)\n",
    "\n",
    "# Stop the timer\n",
    "end_time = datetime.now()\n",
    "\n",
    "# Calculate the runtime\n",
    "runtime = end_time - start_time\n",
    "\n",
    "# Print the runtime\n",
    "print('SVM Prediction Runtime:', runtime)"
   ]
  },
  {
   "cell_type": "code",
   "execution_count": 34,
   "id": "f653b90c",
   "metadata": {},
   "outputs": [
    {
     "data": {
      "text/plain": [
       "0.862125"
      ]
     },
     "execution_count": 34,
     "metadata": {},
     "output_type": "execute_result"
    }
   ],
   "source": [
    "model_svm.score(X_test, y_test)"
   ]
  },
  {
   "cell_type": "code",
   "execution_count": 35,
   "id": "9c9cfcb9",
   "metadata": {},
   "outputs": [
    {
     "data": {
      "text/plain": [
       "0.87840625"
      ]
     },
     "execution_count": 35,
     "metadata": {},
     "output_type": "execute_result"
    }
   ],
   "source": [
    "model_svm.score(X_train, y_train)"
   ]
  },
  {
   "cell_type": "code",
   "execution_count": 36,
   "id": "576f42ae",
   "metadata": {},
   "outputs": [
    {
     "name": "stdout",
     "output_type": "stream",
     "text": [
      "SVM Prediction Runtime: 0:00:53.653267\n"
     ]
    }
   ],
   "source": [
    "# Start the timer\n",
    "start_time = datetime.now()\n",
    "\n",
    "y_pred = model_svm.predict(X_test)\n",
    "\n",
    "# Stop the timer\n",
    "end_time = datetime.now()\n",
    "\n",
    "# Calculate the runtime\n",
    "runtime = end_time - start_time\n",
    "\n",
    "# Print the runtime\n",
    "print('SVM Prediction Runtime:', runtime)"
   ]
  },
  {
   "cell_type": "code",
   "execution_count": 37,
   "id": "b551a199",
   "metadata": {},
   "outputs": [],
   "source": [
    "y_pred = cross_val_predict(model_svm, X_test, y_test)"
   ]
  },
  {
   "cell_type": "code",
   "execution_count": 38,
   "id": "da573d64",
   "metadata": {},
   "outputs": [
    {
     "name": "stdout",
     "output_type": "stream",
     "text": [
      "              precision    recall  f1-score   support\n",
      "\n",
      "           0       0.82      0.86      0.84      4028\n",
      "           1       0.85      0.80      0.83      3972\n",
      "\n",
      "    accuracy                           0.83      8000\n",
      "   macro avg       0.83      0.83      0.83      8000\n",
      "weighted avg       0.83      0.83      0.83      8000\n",
      "\n"
     ]
    }
   ],
   "source": [
    "print(classification_report(y_test, y_pred))"
   ]
  },
  {
   "cell_type": "code",
   "execution_count": 39,
   "id": "b9c501c6",
   "metadata": {},
   "outputs": [
    {
     "name": "stdout",
     "output_type": "stream",
     "text": [
      "[[3462  566]\n",
      " [ 775 3197]]\n"
     ]
    }
   ],
   "source": [
    "print(confusion_matrix(y_test, y_pred))"
   ]
  },
  {
   "cell_type": "code",
   "execution_count": 40,
   "id": "15f73307",
   "metadata": {},
   "outputs": [],
   "source": [
    "filename = 'models/svm_tfidf_ml_model.sav'\n",
    "pickle.dump(model_svm, open(filename, 'wb'))"
   ]
  },
  {
   "cell_type": "markdown",
   "id": "c1aa2fd2",
   "metadata": {},
   "source": [
    "#### Gradient Boosting Classifier"
   ]
  },
  {
   "cell_type": "code",
   "execution_count": 41,
   "id": "fb43b443",
   "metadata": {},
   "outputs": [
    {
     "name": "stdout",
     "output_type": "stream",
     "text": [
      "Gradient Boosting Prediction Runtime: 0:03:24.646710\n"
     ]
    }
   ],
   "source": [
    "# Start the timer\n",
    "start_time = datetime.now()\n",
    "\n",
    "\n",
    "# create a Gradient Boosting classifier with default hyperparameters\n",
    "gb_classifier = GradientBoostingClassifier(random_state=2)\n",
    "\n",
    "# fit the classifier to the training data\n",
    "gb_classifier.fit(X_train, y_train)\n",
    "\n",
    "# Stop the timer\n",
    "end_time = datetime.now()\n",
    "\n",
    "# Calculate the runtime\n",
    "runtime = end_time - start_time\n",
    "\n",
    "# Print the runtime\n",
    "print('Gradient Boosting Prediction Runtime:', runtime)\n"
   ]
  },
  {
   "cell_type": "code",
   "execution_count": 42,
   "id": "d426501a",
   "metadata": {},
   "outputs": [
    {
     "data": {
      "text/plain": [
       "0.782125"
      ]
     },
     "execution_count": 42,
     "metadata": {},
     "output_type": "execute_result"
    }
   ],
   "source": [
    "gb_classifier.score(X_test, y_test)"
   ]
  },
  {
   "cell_type": "code",
   "execution_count": 43,
   "id": "d0c0efd2",
   "metadata": {},
   "outputs": [
    {
     "data": {
      "text/plain": [
       "0.80153125"
      ]
     },
     "execution_count": 43,
     "metadata": {},
     "output_type": "execute_result"
    }
   ],
   "source": [
    "gb_classifier.score(X_train, y_train)"
   ]
  },
  {
   "cell_type": "code",
   "execution_count": 44,
   "id": "c8d1c6be",
   "metadata": {},
   "outputs": [
    {
     "name": "stdout",
     "output_type": "stream",
     "text": [
      "SVM Prediction Runtime: 0:00:00.014249\n"
     ]
    }
   ],
   "source": [
    "# Start the timer\n",
    "start_time = datetime.now()\n",
    "\n",
    "y_pred = gb_classifier.predict(X_test)\n",
    "\n",
    "# Stop the timer\n",
    "end_time = datetime.now()\n",
    "\n",
    "# Calculate the runtime\n",
    "runtime = end_time - start_time\n",
    "\n",
    "# Print the runtime\n",
    "print('SVM Prediction Runtime:', runtime)"
   ]
  },
  {
   "cell_type": "code",
   "execution_count": 45,
   "id": "6fa5aa10",
   "metadata": {},
   "outputs": [],
   "source": [
    "y_pred = cross_val_predict(gb_classifier, X_test, y_test)"
   ]
  },
  {
   "cell_type": "code",
   "execution_count": 46,
   "id": "8b71dca2",
   "metadata": {},
   "outputs": [
    {
     "name": "stdout",
     "output_type": "stream",
     "text": [
      "              precision    recall  f1-score   support\n",
      "\n",
      "           0       0.77      0.81      0.79      4028\n",
      "           1       0.80      0.75      0.77      3972\n",
      "\n",
      "    accuracy                           0.78      8000\n",
      "   macro avg       0.78      0.78      0.78      8000\n",
      "weighted avg       0.78      0.78      0.78      8000\n",
      "\n"
     ]
    }
   ],
   "source": [
    "print(classification_report(y_test, y_pred))"
   ]
  },
  {
   "cell_type": "code",
   "execution_count": 47,
   "id": "256b663b",
   "metadata": {},
   "outputs": [],
   "source": [
    "filename = 'models/gb_boosting_tfidf_ml_model.sav'\n",
    "pickle.dump(gb_classifier, open(filename, 'wb'))"
   ]
  },
  {
   "cell_type": "code",
   "execution_count": null,
   "id": "af823418",
   "metadata": {},
   "outputs": [],
   "source": []
  }
 ],
 "metadata": {
  "kernelspec": {
   "display_name": "Python 3 (ipykernel)",
   "language": "python",
   "name": "python3"
  },
  "language_info": {
   "codemirror_mode": {
    "name": "ipython",
    "version": 3
   },
   "file_extension": ".py",
   "mimetype": "text/x-python",
   "name": "python",
   "nbconvert_exporter": "python",
   "pygments_lexer": "ipython3",
   "version": "3.9.13"
  }
 },
 "nbformat": 4,
 "nbformat_minor": 5
}
